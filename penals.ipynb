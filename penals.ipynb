{
 "cells": [
  {
   "cell_type": "code",
   "execution_count": 3,
   "metadata": {},
   "outputs": [],
   "source": [
    "import os\n",
    "import numpy as np\n",
    "import pandas as pd\n",
    "import matplotlib.pyplot as plt\n"
   ]
  },
  {
   "cell_type": "code",
   "execution_count": 4,
   "metadata": {},
   "outputs": [
    {
     "data": {
      "text/html": [
       "<div>\n",
       "<style scoped>\n",
       "    .dataframe tbody tr th:only-of-type {\n",
       "        vertical-align: middle;\n",
       "    }\n",
       "\n",
       "    .dataframe tbody tr th {\n",
       "        vertical-align: top;\n",
       "    }\n",
       "\n",
       "    .dataframe thead th {\n",
       "        text-align: right;\n",
       "    }\n",
       "</style>\n",
       "<table border=\"1\" class=\"dataframe\">\n",
       "  <thead>\n",
       "    <tr style=\"text-align: right;\">\n",
       "      <th></th>\n",
       "      <th>Id</th>\n",
       "      <th>Competition</th>\n",
       "      <th>Journee</th>\n",
       "      <th>Date</th>\n",
       "      <th>Home team</th>\n",
       "      <th>Away team</th>\n",
       "      <th>Team taking pen</th>\n",
       "      <th>Pen taker</th>\n",
       "      <th>Minute</th>\n",
       "      <th>LtD game-changing pen</th>\n",
       "      <th>DtW game-changing pen</th>\n",
       "      <th>L no game-changing</th>\n",
       "      <th>W no game-changing</th>\n",
       "      <th>Scored</th>\n",
       "      <th>PT sub</th>\n",
       "      <th>PT position</th>\n",
       "      <th>Team win</th>\n",
       "      <th>Last Goal</th>\n",
       "    </tr>\n",
       "  </thead>\n",
       "  <tbody>\n",
       "    <tr>\n",
       "      <th>0</th>\n",
       "      <td>1</td>\n",
       "      <td>Premier League</td>\n",
       "      <td>1</td>\n",
       "      <td>10/08/2019</td>\n",
       "      <td>West Ham</td>\n",
       "      <td>Manchester City</td>\n",
       "      <td>Away</td>\n",
       "      <td>Sergio Aguero</td>\n",
       "      <td>84.0</td>\n",
       "      <td>NO</td>\n",
       "      <td>NO</td>\n",
       "      <td>NO</td>\n",
       "      <td>YES</td>\n",
       "      <td>NO</td>\n",
       "      <td>YES</td>\n",
       "      <td>ST</td>\n",
       "      <td>YES</td>\n",
       "      <td>NO</td>\n",
       "    </tr>\n",
       "    <tr>\n",
       "      <th>1</th>\n",
       "      <td>2</td>\n",
       "      <td>Premier League</td>\n",
       "      <td>1</td>\n",
       "      <td>10/08/2019</td>\n",
       "      <td>West Ham</td>\n",
       "      <td>Manchester City</td>\n",
       "      <td>Away</td>\n",
       "      <td>Sergio Aguero</td>\n",
       "      <td>86.0</td>\n",
       "      <td>NO</td>\n",
       "      <td>NO</td>\n",
       "      <td>NO</td>\n",
       "      <td>YES</td>\n",
       "      <td>YES</td>\n",
       "      <td>YES</td>\n",
       "      <td>ST</td>\n",
       "      <td>YES</td>\n",
       "      <td>NO</td>\n",
       "    </tr>\n",
       "    <tr>\n",
       "      <th>2</th>\n",
       "      <td>3</td>\n",
       "      <td>Premier League</td>\n",
       "      <td>1</td>\n",
       "      <td>11/08/2019</td>\n",
       "      <td>Manchester United</td>\n",
       "      <td>Chelsea</td>\n",
       "      <td>Home</td>\n",
       "      <td>Marcus Rashford</td>\n",
       "      <td>18.0</td>\n",
       "      <td>NO</td>\n",
       "      <td>YES</td>\n",
       "      <td>NO</td>\n",
       "      <td>NO</td>\n",
       "      <td>YES</td>\n",
       "      <td>NO</td>\n",
       "      <td>W</td>\n",
       "      <td>YES</td>\n",
       "      <td>NO</td>\n",
       "    </tr>\n",
       "    <tr>\n",
       "      <th>3</th>\n",
       "      <td>4</td>\n",
       "      <td>Premier League</td>\n",
       "      <td>2</td>\n",
       "      <td>17/08/2019</td>\n",
       "      <td>Aston Villa</td>\n",
       "      <td>Bournemouth</td>\n",
       "      <td>Away</td>\n",
       "      <td>Joshua King</td>\n",
       "      <td>2.0</td>\n",
       "      <td>NO</td>\n",
       "      <td>YES</td>\n",
       "      <td>NO</td>\n",
       "      <td>NO</td>\n",
       "      <td>YES</td>\n",
       "      <td>NO</td>\n",
       "      <td>OM</td>\n",
       "      <td>YES</td>\n",
       "      <td>NO</td>\n",
       "    </tr>\n",
       "    <tr>\n",
       "      <th>4</th>\n",
       "      <td>5</td>\n",
       "      <td>Premier League</td>\n",
       "      <td>2</td>\n",
       "      <td>19/08/2019</td>\n",
       "      <td>Wolverhampton</td>\n",
       "      <td>Manchester United</td>\n",
       "      <td>Away</td>\n",
       "      <td>Paul Pogba</td>\n",
       "      <td>68.0</td>\n",
       "      <td>NO</td>\n",
       "      <td>YES</td>\n",
       "      <td>NO</td>\n",
       "      <td>NO</td>\n",
       "      <td>NO</td>\n",
       "      <td>NO</td>\n",
       "      <td>DM</td>\n",
       "      <td>NO</td>\n",
       "      <td>YES</td>\n",
       "    </tr>\n",
       "  </tbody>\n",
       "</table>\n",
       "</div>"
      ],
      "text/plain": [
       "   Id     Competition Journee        Date          Home team  \\\n",
       "0   1  Premier League       1  10/08/2019           West Ham   \n",
       "1   2  Premier League       1  10/08/2019           West Ham   \n",
       "2   3  Premier League       1  11/08/2019  Manchester United   \n",
       "3   4  Premier League       2  17/08/2019        Aston Villa   \n",
       "4   5  Premier League       2  19/08/2019      Wolverhampton   \n",
       "\n",
       "           Away team Team taking pen        Pen taker  Minute  \\\n",
       "0    Manchester City            Away    Sergio Aguero    84.0   \n",
       "1    Manchester City            Away    Sergio Aguero    86.0   \n",
       "2            Chelsea            Home  Marcus Rashford    18.0   \n",
       "3        Bournemouth            Away      Joshua King     2.0   \n",
       "4  Manchester United            Away       Paul Pogba    68.0   \n",
       "\n",
       "  LtD game-changing pen DtW game-changing pen L no game-changing  \\\n",
       "0                    NO                    NO                 NO   \n",
       "1                    NO                    NO                 NO   \n",
       "2                    NO                   YES                 NO   \n",
       "3                    NO                   YES                 NO   \n",
       "4                    NO                   YES                 NO   \n",
       "\n",
       "  W no game-changing Scored PT sub PT position Team win Last Goal  \n",
       "0                YES     NO    YES          ST      YES        NO  \n",
       "1                YES    YES    YES          ST      YES        NO  \n",
       "2                 NO    YES     NO           W      YES        NO  \n",
       "3                 NO    YES     NO          OM      YES        NO  \n",
       "4                 NO     NO     NO          DM       NO       YES  "
      ]
     },
     "execution_count": 4,
     "metadata": {},
     "output_type": "execute_result"
    }
   ],
   "source": [
    "df = pd.read_csv('Penalty_stats_propre_19-20.csv', sep=';', encoding='latin')\n",
    "df.head(5)"
   ]
  },
  {
   "cell_type": "markdown",
   "metadata": {},
   "source": [
    "# Separando as cobraças de penalties por posições em campo"
   ]
  },
  {
   "cell_type": "code",
   "execution_count": 94,
   "metadata": {},
   "outputs": [
    {
     "data": {
      "text/plain": [
       "PT position  Scored\n",
       "CB           NO          1\n",
       "             YES         6\n",
       "DM           NO         11\n",
       "             YES        49\n",
       "LD           NO          7\n",
       "             YES        11\n",
       "OM           NO         11\n",
       "             YES        57\n",
       "ST           NO         54\n",
       "             YES       187\n",
       "W            NO         26\n",
       "             YES        74\n",
       "dtype: int64"
      ]
     },
     "execution_count": 94,
     "metadata": {},
     "output_type": "execute_result"
    }
   ],
   "source": [
    "temp_df = df.groupby(['PT position', 'Scored']).size()\n",
    "temp_df"
   ]
  },
  {
   "cell_type": "code",
   "execution_count": 95,
   "metadata": {},
   "outputs": [
    {
     "data": {
      "text/plain": [
       "<Axes: xlabel='PT position,Scored'>"
      ]
     },
     "execution_count": 95,
     "metadata": {},
     "output_type": "execute_result"
    },
    {
     "data": {
      "image/png": "[encoded data removed]",
      "text/plain": [
       "<Figure size 640x480 with 1 Axes>"
      ]
     },
     "metadata": {},
     "output_type": "display_data"
    }
   ],
   "source": [
    "temp_df.plot.bar(x='PT position', y='Scored', rot=40)"
   ]
  },
  {
   "cell_type": "code",
   "execution_count": 96,
   "metadata": {},
   "outputs": [
    {
     "data": {
      "image/png": "[encoded data removed]",
      "text/plain": [
       "<Figure size 640x480 with 1 Axes>"
      ]
     },
     "metadata": {},
     "output_type": "display_data"
    }
   ],
   "source": [
    "ax = temp_df.plot(kind='bar', xlabel='Posição em campo', ylabel='Número de penaltis', title='Penals', rot=40)\n",
    "for c in ax.containers:\n",
    "    ax.bar_label(c, label_type='edge')\n",
    "\n"
   ]
  },
  {
   "cell_type": "code",
   "execution_count": 90,
   "metadata": {},
   "outputs": [
    {
     "data": {
      "text/plain": [
       "(12,)"
      ]
     },
     "execution_count": 90,
     "metadata": {},
     "output_type": "execute_result"
    }
   ],
   "source": [
    "temp_df.shape"
   ]
  },
  {
   "cell_type": "code",
   "execution_count": 103,
   "metadata": {},
   "outputs": [
    {
     "data": {
      "text/html": [
       "<div>\n",
       "<style scoped>\n",
       "    .dataframe tbody tr th:only-of-type {\n",
       "        vertical-align: middle;\n",
       "    }\n",
       "\n",
       "    .dataframe tbody tr th {\n",
       "        vertical-align: top;\n",
       "    }\n",
       "\n",
       "    .dataframe thead th {\n",
       "        text-align: right;\n",
       "    }\n",
       "</style>\n",
       "<table border=\"1\" class=\"dataframe\">\n",
       "  <thead>\n",
       "    <tr style=\"text-align: right;\">\n",
       "      <th></th>\n",
       "      <th>total shots</th>\n",
       "    </tr>\n",
       "    <tr>\n",
       "      <th>PT position</th>\n",
       "      <th></th>\n",
       "    </tr>\n",
       "  </thead>\n",
       "  <tbody>\n",
       "    <tr>\n",
       "      <th>CB</th>\n",
       "      <td>7</td>\n",
       "    </tr>\n",
       "    <tr>\n",
       "      <th>DM</th>\n",
       "      <td>60</td>\n",
       "    </tr>\n",
       "    <tr>\n",
       "      <th>LD</th>\n",
       "      <td>18</td>\n",
       "    </tr>\n",
       "    <tr>\n",
       "      <th>OM</th>\n",
       "      <td>68</td>\n",
       "    </tr>\n",
       "    <tr>\n",
       "      <th>ST</th>\n",
       "      <td>241</td>\n",
       "    </tr>\n",
       "    <tr>\n",
       "      <th>W</th>\n",
       "      <td>100</td>\n",
       "    </tr>\n",
       "  </tbody>\n",
       "</table>\n",
       "</div>"
      ],
      "text/plain": [
       "             total shots\n",
       "PT position             \n",
       "CB                     7\n",
       "DM                    60\n",
       "LD                    18\n",
       "OM                    68\n",
       "ST                   241\n",
       "W                    100"
      ]
     },
     "execution_count": 103,
     "metadata": {},
     "output_type": "execute_result"
    }
   ],
   "source": [
    "k = df.groupby(['PT position']).size().to_frame('total shots')\n",
    "k"
   ]
  },
  {
   "cell_type": "code",
   "execution_count": 123,
   "metadata": {},
   "outputs": [
    {
     "data": {
      "text/html": [
       "<div>\n",
       "<style scoped>\n",
       "    .dataframe tbody tr th:only-of-type {\n",
       "        vertical-align: middle;\n",
       "    }\n",
       "\n",
       "    .dataframe tbody tr th {\n",
       "        vertical-align: top;\n",
       "    }\n",
       "\n",
       "    .dataframe thead th {\n",
       "        text-align: right;\n",
       "    }\n",
       "</style>\n",
       "<table border=\"1\" class=\"dataframe\">\n",
       "  <thead>\n",
       "    <tr style=\"text-align: right;\">\n",
       "      <th>Scored</th>\n",
       "      <th>NO</th>\n",
       "      <th>YES</th>\n",
       "    </tr>\n",
       "    <tr>\n",
       "      <th>PT position</th>\n",
       "      <th></th>\n",
       "      <th></th>\n",
       "    </tr>\n",
       "  </thead>\n",
       "  <tbody>\n",
       "    <tr>\n",
       "      <th>CB</th>\n",
       "      <td>1</td>\n",
       "      <td>6</td>\n",
       "    </tr>\n",
       "    <tr>\n",
       "      <th>DM</th>\n",
       "      <td>11</td>\n",
       "      <td>49</td>\n",
       "    </tr>\n",
       "    <tr>\n",
       "      <th>LD</th>\n",
       "      <td>7</td>\n",
       "      <td>11</td>\n",
       "    </tr>\n",
       "    <tr>\n",
       "      <th>OM</th>\n",
       "      <td>11</td>\n",
       "      <td>57</td>\n",
       "    </tr>\n",
       "    <tr>\n",
       "      <th>ST</th>\n",
       "      <td>54</td>\n",
       "      <td>187</td>\n",
       "    </tr>\n",
       "  </tbody>\n",
       "</table>\n",
       "</div>"
      ],
      "text/plain": [
       "Scored       NO  YES\n",
       "PT position         \n",
       "CB            1    6\n",
       "DM           11   49\n",
       "LD            7   11\n",
       "OM           11   57\n",
       "ST           54  187"
      ]
     },
     "execution_count": 123,
     "metadata": {},
     "output_type": "execute_result"
    }
   ],
   "source": [
    "total_df = df.groupby(['PT position', 'Scored']).size().unstack(fill_value=0)\n",
    "total_df.head()"
   ]
  },
  {
   "cell_type": "code",
   "execution_count": 130,
   "metadata": {},
   "outputs": [
    {
     "data": {
      "text/plain": [
       "<matplotlib.legend.Legend at 0x24b95144f10>"
      ]
     },
     "execution_count": 130,
     "metadata": {},
     "output_type": "execute_result"
    },
    {
     "data": {
      "image/png": "[encoded data removed]",
      "text/plain": [
       "<Figure size 640x480 with 1 Axes>"
      ]
     },
     "metadata": {},
     "output_type": "display_data"
    }
   ],
   "source": [
    "plot = total_df.plot(kind='bar', xlabel='Posição em campo', ylabel='Número de Penalties', title='Penals', rot=40)\n",
    "for c in plot.containers:\n",
    "    plot.bar_label(c, label_type='edge')\n",
    "plot.legend(['Não Convertido', 'Convertido'])"
   ]
  },
  {
   "cell_type": "markdown",
   "metadata": {},
   "source": [
    "## W = Winger (Ala), ST = Striker (Atacante), OM = Offensive Midfielder (Meia ofensivo), DM = Deffensive Midfielder (Meia defensivo), LD = Left Defender (Lateral Esquerdo), CB = Center Back (Zagueiro)"
   ]
  },
  {
   "cell_type": "code",
   "execution_count": 149,
   "metadata": {},
   "outputs": [
    {
     "data": {
      "text/html": [
       "<div>\n",
       "<style scoped>\n",
       "    .dataframe tbody tr th:only-of-type {\n",
       "        vertical-align: middle;\n",
       "    }\n",
       "\n",
       "    .dataframe tbody tr th {\n",
       "        vertical-align: top;\n",
       "    }\n",
       "\n",
       "    .dataframe thead th {\n",
       "        text-align: right;\n",
       "    }\n",
       "</style>\n",
       "<table border=\"1\" class=\"dataframe\">\n",
       "  <thead>\n",
       "    <tr style=\"text-align: right;\">\n",
       "      <th>PT position</th>\n",
       "      <th>CB</th>\n",
       "      <th>DM</th>\n",
       "      <th>LD</th>\n",
       "      <th>OM</th>\n",
       "      <th>ST</th>\n",
       "      <th>W</th>\n",
       "    </tr>\n",
       "    <tr>\n",
       "      <th>Scored</th>\n",
       "      <th></th>\n",
       "      <th></th>\n",
       "      <th></th>\n",
       "      <th></th>\n",
       "      <th></th>\n",
       "      <th></th>\n",
       "    </tr>\n",
       "  </thead>\n",
       "  <tbody>\n",
       "    <tr>\n",
       "      <th>NO</th>\n",
       "      <td>1</td>\n",
       "      <td>11</td>\n",
       "      <td>7</td>\n",
       "      <td>11</td>\n",
       "      <td>54</td>\n",
       "      <td>26</td>\n",
       "    </tr>\n",
       "    <tr>\n",
       "      <th>YES</th>\n",
       "      <td>6</td>\n",
       "      <td>49</td>\n",
       "      <td>11</td>\n",
       "      <td>57</td>\n",
       "      <td>187</td>\n",
       "      <td>74</td>\n",
       "    </tr>\n",
       "  </tbody>\n",
       "</table>\n",
       "</div>"
      ],
      "text/plain": [
       "PT position  CB  DM  LD  OM   ST   W\n",
       "Scored                              \n",
       "NO            1  11   7  11   54  26\n",
       "YES           6  49  11  57  187  74"
      ]
     },
     "execution_count": 149,
     "metadata": {},
     "output_type": "execute_result"
    }
   ],
   "source": [
    "df_remade = df.groupby(['Scored', 'PT position']).size().unstack(fill_value=0)\n",
    "df_remade.head()"
   ]
  },
  {
   "cell_type": "code",
   "execution_count": 190,
   "metadata": {},
   "outputs": [
    {
     "name": "stdout",
     "output_type": "stream",
     "text": [
      "0.8571428571428571\n",
      "0.8166666666666667\n",
      "0.6111111111111112\n",
      "0.8382352941176471\n",
      "0.7759336099585062\n",
      "0.74\n",
      "{'CB': np.float16(0.857), 'DM': np.float16(0.817), 'LD': np.float16(0.6113), 'OM': np.float16(0.8384), 'ST': np.float16(0.776), 'W': np.float16(0.74)}\n"
     ]
    }
   ],
   "source": [
    "dic = {}\n",
    "for position in df_remade:\n",
    "    percent = df_remade[position].YES/(df_remade[position].YES + df_remade[position].NO)\n",
    "    print(percent)\n",
    "    to_dic = np.float16(percent)\n",
    "    dic[position] = to_dic\n",
    "dic\n",
    "\n",
    "print(dic)"
   ]
  },
  {
   "cell_type": "code",
   "execution_count": 5,
   "metadata": {},
   "outputs": [
    {
     "data": {
      "text/plain": [
       "Competition\n",
       "Bundesliga           73\n",
       "Champions league     46\n",
       "Ligue 1              92\n",
       "Premier League       95\n",
       "SERIE A             188\n",
       "dtype: int64"
      ]
     },
     "execution_count": 5,
     "metadata": {},
     "output_type": "execute_result"
    }
   ],
   "source": [
    "\n",
    "df.groupby('Competition').size()"
   ]
  },
  {
   "cell_type": "code",
   "execution_count": 18,
   "metadata": {},
   "outputs": [
    {
     "data": {
      "text/plain": [
       "95"
      ]
     },
     "execution_count": 18,
     "metadata": {},
     "output_type": "execute_result"
    }
   ],
   "source": [
    "atacante = 0\n",
    "meio_ofensivo = 0\n",
    "meio_defensivo = 0\n",
    "ala = 0\n",
    "zaguiero = 0\n",
    "\n",
    "atacante_acertou = 0\n",
    "meio_ofensivo_acertou = 0\n",
    "meio_defensivo_acertou = 0\n",
    "ala_acertou = 0\n",
    "zaguiero_acertou = 0\n",
    "while df.iloc[i,1] == \"Premier League\":\n",
    "    soma_de_penalties += 1\n",
    "    if df.iloc[i,13]=='YES':\n",
    "        acertou = acertou+1\n",
    "        total_shot_by_position[df.iloc[i,15]] = True\n",
    "    else:\n",
    "        errou = errou + 1\n",
    "        total\n",
    "        \n",
    "\n"
   ]
  },
  {
   "cell_type": "code",
   "execution_count": null,
   "metadata": {},
   "outputs": [],
   "source": []
  }
 ],
 "metadata": {
  "kernelspec": {
   "display_name": ".venv",
   "language": "python",
   "name": "python3"
  },
  "language_info": {
   "codemirror_mode": {
    "name": "ipython",
    "version": 3
   },
   "file_extension": ".py",
   "mimetype": "text/x-python",
   "name": "python",
   "nbconvert_exporter": "python",
   "pygments_lexer": "ipython3",
   "version": "3.11.1"
  }
 },
 "nbformat": 4,
 "nbformat_minor": 2
}
