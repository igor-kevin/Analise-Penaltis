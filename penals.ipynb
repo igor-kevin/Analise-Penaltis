{
 "cells": [
  {
   "cell_type": "code",
   "execution_count": 3,
   "metadata": {},
   "outputs": [],
   "source": [
    "import os\n",
    "import numpy as np\n",
    "import pandas as pd\n",
    "import matplotlib.pyplot as plt\n"
   ]
  },
  {
   "cell_type": "code",
   "execution_count": 11,
   "metadata": {},
   "outputs": [
    {
     "data": {
      "text/html": [
       "<div>\n",
       "<style scoped>\n",
       "    .dataframe tbody tr th:only-of-type {\n",
       "        vertical-align: middle;\n",
       "    }\n",
       "\n",
       "    .dataframe tbody tr th {\n",
       "        vertical-align: top;\n",
       "    }\n",
       "\n",
       "    .dataframe thead th {\n",
       "        text-align: right;\n",
       "    }\n",
       "</style>\n",
       "<table border=\"1\" class=\"dataframe\">\n",
       "  <thead>\n",
       "    <tr style=\"text-align: right;\">\n",
       "      <th></th>\n",
       "      <th>Id</th>\n",
       "      <th>Competition</th>\n",
       "      <th>Journee</th>\n",
       "      <th>Date</th>\n",
       "      <th>Home team</th>\n",
       "      <th>Away team</th>\n",
       "      <th>Team taking pen</th>\n",
       "      <th>Pen taker</th>\n",
       "      <th>Minute</th>\n",
       "      <th>LtD game-changing pen</th>\n",
       "      <th>DtW game-changing pen</th>\n",
       "      <th>L no game-changing</th>\n",
       "      <th>W no game-changing</th>\n",
       "      <th>Scored</th>\n",
       "      <th>PT sub</th>\n",
       "      <th>PT position</th>\n",
       "      <th>Team win</th>\n",
       "      <th>Last Goal</th>\n",
       "    </tr>\n",
       "  </thead>\n",
       "  <tbody>\n",
       "    <tr>\n",
       "      <th>0</th>\n",
       "      <td>1</td>\n",
       "      <td>Premier League</td>\n",
       "      <td>1</td>\n",
       "      <td>10/08/2019</td>\n",
       "      <td>West Ham</td>\n",
       "      <td>Manchester City</td>\n",
       "      <td>Away</td>\n",
       "      <td>Sergio Aguero</td>\n",
       "      <td>84.0</td>\n",
       "      <td>NO</td>\n",
       "      <td>NO</td>\n",
       "      <td>NO</td>\n",
       "      <td>YES</td>\n",
       "      <td>NO</td>\n",
       "      <td>YES</td>\n",
       "      <td>ST</td>\n",
       "      <td>YES</td>\n",
       "      <td>NO</td>\n",
       "    </tr>\n",
       "    <tr>\n",
       "      <th>1</th>\n",
       "      <td>2</td>\n",
       "      <td>Premier League</td>\n",
       "      <td>1</td>\n",
       "      <td>10/08/2019</td>\n",
       "      <td>West Ham</td>\n",
       "      <td>Manchester City</td>\n",
       "      <td>Away</td>\n",
       "      <td>Sergio Aguero</td>\n",
       "      <td>86.0</td>\n",
       "      <td>NO</td>\n",
       "      <td>NO</td>\n",
       "      <td>NO</td>\n",
       "      <td>YES</td>\n",
       "      <td>YES</td>\n",
       "      <td>YES</td>\n",
       "      <td>ST</td>\n",
       "      <td>YES</td>\n",
       "      <td>NO</td>\n",
       "    </tr>\n",
       "    <tr>\n",
       "      <th>2</th>\n",
       "      <td>3</td>\n",
       "      <td>Premier League</td>\n",
       "      <td>1</td>\n",
       "      <td>11/08/2019</td>\n",
       "      <td>Manchester United</td>\n",
       "      <td>Chelsea</td>\n",
       "      <td>Home</td>\n",
       "      <td>Marcus Rashford</td>\n",
       "      <td>18.0</td>\n",
       "      <td>NO</td>\n",
       "      <td>YES</td>\n",
       "      <td>NO</td>\n",
       "      <td>NO</td>\n",
       "      <td>YES</td>\n",
       "      <td>NO</td>\n",
       "      <td>W</td>\n",
       "      <td>YES</td>\n",
       "      <td>NO</td>\n",
       "    </tr>\n",
       "    <tr>\n",
       "      <th>3</th>\n",
       "      <td>4</td>\n",
       "      <td>Premier League</td>\n",
       "      <td>2</td>\n",
       "      <td>17/08/2019</td>\n",
       "      <td>Aston Villa</td>\n",
       "      <td>Bournemouth</td>\n",
       "      <td>Away</td>\n",
       "      <td>Joshua King</td>\n",
       "      <td>2.0</td>\n",
       "      <td>NO</td>\n",
       "      <td>YES</td>\n",
       "      <td>NO</td>\n",
       "      <td>NO</td>\n",
       "      <td>YES</td>\n",
       "      <td>NO</td>\n",
       "      <td>OM</td>\n",
       "      <td>YES</td>\n",
       "      <td>NO</td>\n",
       "    </tr>\n",
       "    <tr>\n",
       "      <th>4</th>\n",
       "      <td>5</td>\n",
       "      <td>Premier League</td>\n",
       "      <td>2</td>\n",
       "      <td>19/08/2019</td>\n",
       "      <td>Wolverhampton</td>\n",
       "      <td>Manchester United</td>\n",
       "      <td>Away</td>\n",
       "      <td>Paul Pogba</td>\n",
       "      <td>68.0</td>\n",
       "      <td>NO</td>\n",
       "      <td>YES</td>\n",
       "      <td>NO</td>\n",
       "      <td>NO</td>\n",
       "      <td>NO</td>\n",
       "      <td>NO</td>\n",
       "      <td>DM</td>\n",
       "      <td>NO</td>\n",
       "      <td>YES</td>\n",
       "    </tr>\n",
       "  </tbody>\n",
       "</table>\n",
       "</div>"
      ],
      "text/plain": [
       "   Id     Competition Journee        Date          Home team  \\\n",
       "0   1  Premier League       1  10/08/2019           West Ham   \n",
       "1   2  Premier League       1  10/08/2019           West Ham   \n",
       "2   3  Premier League       1  11/08/2019  Manchester United   \n",
       "3   4  Premier League       2  17/08/2019        Aston Villa   \n",
       "4   5  Premier League       2  19/08/2019      Wolverhampton   \n",
       "\n",
       "           Away team Team taking pen        Pen taker  Minute  \\\n",
       "0    Manchester City            Away    Sergio Aguero    84.0   \n",
       "1    Manchester City            Away    Sergio Aguero    86.0   \n",
       "2            Chelsea            Home  Marcus Rashford    18.0   \n",
       "3        Bournemouth            Away      Joshua King     2.0   \n",
       "4  Manchester United            Away       Paul Pogba    68.0   \n",
       "\n",
       "  LtD game-changing pen DtW game-changing pen L no game-changing  \\\n",
       "0                    NO                    NO                 NO   \n",
       "1                    NO                    NO                 NO   \n",
       "2                    NO                   YES                 NO   \n",
       "3                    NO                   YES                 NO   \n",
       "4                    NO                   YES                 NO   \n",
       "\n",
       "  W no game-changing Scored PT sub PT position Team win Last Goal  \n",
       "0                YES     NO    YES          ST      YES        NO  \n",
       "1                YES    YES    YES          ST      YES        NO  \n",
       "2                 NO    YES     NO           W      YES        NO  \n",
       "3                 NO    YES     NO          OM      YES        NO  \n",
       "4                 NO     NO     NO          DM       NO       YES  "
      ]
     },
     "execution_count": 11,
     "metadata": {},
     "output_type": "execute_result"
    }
   ],
   "source": [
    "df = pd.read_csv('Penalty_stats_propre_19-20.csv', sep=';', encoding='latin')\n",
    "df.head(5)"
   ]
  },
  {
   "cell_type": "markdown",
   "metadata": {},
   "source": [
    "# Separando as cobraças de penalties por posições em campo"
   ]
  },
  {
   "cell_type": "code",
   "execution_count": 34,
   "metadata": {},
   "outputs": [
    {
     "data": {
      "text/plain": [
       "PT position  Scored\n",
       "CB           NO          1\n",
       "             YES         6\n",
       "DM           NO         11\n",
       "             YES        49\n",
       "LD           NO          7\n",
       "             YES        11\n",
       "OM           NO         11\n",
       "             YES        57\n",
       "ST           NO         54\n",
       "             YES       187\n",
       "W            NO         26\n",
       "             YES        74\n",
       "dtype: int64"
      ]
     },
     "execution_count": 34,
     "metadata": {},
     "output_type": "execute_result"
    }
   ],
   "source": [
    "temp_df = df.groupby(['PT position', 'Scored']).size()\n",
    "temp_df"
   ]
  },
  {
   "cell_type": "code",
   "execution_count": 59,
   "metadata": {},
   "outputs": [
    {
     "data": {
      "text/plain": [
       "<Axes: xlabel='PT position,Scored'>"
      ]
     },
     "execution_count": 59,
     "metadata": {},
     "output_type": "execute_result"
    },
    {
     "data": {
      "image/png": "[encoded data removed]",
      "text/plain": [
       "<Figure size 640x480 with 1 Axes>"
      ]
     },
     "metadata": {},
     "output_type": "display_data"
    }
   ],
   "source": [
    "temp_df.plot.bar(x='Scored', stacked=True, rot=0)"
   ]
  },
  {
   "cell_type": "code",
   "execution_count": null,
   "metadata": {},
   "outputs": [],
   "source": []
  }
 ],
 "metadata": {
  "kernelspec": {
   "display_name": ".venv",
   "language": "python",
   "name": "python3"
  },
  "language_info": {
   "codemirror_mode": {
    "name": "ipython",
    "version": 3
   },
   "file_extension": ".py",
   "mimetype": "text/x-python",
   "name": "python",
   "nbconvert_exporter": "python",
   "pygments_lexer": "ipython3",
   "version": "3.11.1"
  }
 },
 "nbformat": 4,
 "nbformat_minor": 2
}
